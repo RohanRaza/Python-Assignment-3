{
 "cells": [
  {
   "cell_type": "markdown",
   "id": "5e6c2e96",
   "metadata": {},
   "source": [
    "# QUESTION NO 1 <br>  \n",
    "Write a Python program to print the following string in a specific format.\n"
   ]
  },
  {
   "cell_type": "code",
   "execution_count": 90,
   "id": "081bd61e",
   "metadata": {},
   "outputs": [
    {
     "name": "stdout",
     "output_type": "stream",
     "text": [
      "Twinkle Twinkle little star! \n",
      "        How I wonder what you are \n",
      "            Up above the world so high \n",
      "            Like a diamond in the sky \n",
      "Twinkle Twinkle little star! \n",
      "        How I wonder what you are\n"
     ]
    }
   ],
   "source": [
    "print(\"Twinkle Twinkle little star! \\n        How I wonder what you are \\n            Up above the world so high \\n            Like a diamond in the sky \\nTwinkle Twinkle little star! \\n        How I wonder what you are\" )"
   ]
  },
  {
   "cell_type": "markdown",
   "id": "dde208a9",
   "metadata": {},
   "source": [
    "# QUESTION NO 2 <br>\n",
    "Write a Python program to get the Python version you are using"
   ]
  },
  {
   "cell_type": "code",
   "execution_count": 30,
   "id": "d532828f",
   "metadata": {},
   "outputs": [
    {
     "name": "stdout",
     "output_type": "stream",
     "text": [
      "3.8.8\n"
     ]
    }
   ],
   "source": [
    "from platform import python_version\n",
    "print (python_version())"
   ]
  },
  {
   "cell_type": "markdown",
   "id": "56cf65c3",
   "metadata": {},
   "source": [
    "# QUESTION NO 3 <br>\n",
    "Write a Python program to display the current date and time."
   ]
  },
  {
   "cell_type": "code",
   "execution_count": 33,
   "id": "0e7fe348",
   "metadata": {},
   "outputs": [
    {
     "name": "stdout",
     "output_type": "stream",
     "text": [
      "Current Date and Time is:\n",
      "22-10-21  23:44:25:\n"
     ]
    }
   ],
   "source": [
    "import datetime\n",
    "now = datetime.datetime.now()\n",
    "print(\"Current Date and Time is:\")\n",
    "print (now.strftime(\"%d-%m-%y  %H:%M:%S:\"))"
   ]
  },
  {
   "cell_type": "markdown",
   "id": "314642f7",
   "metadata": {},
   "source": [
    "# QUESTION NO 4 <br>\n",
    "Write a Python program which accepts the radius of a circle from the user and compute\n",
    "the area."
   ]
  },
  {
   "cell_type": "code",
   "execution_count": 91,
   "id": "f7a781ec",
   "metadata": {},
   "outputs": [
    {
     "name": "stdout",
     "output_type": "stream",
     "text": [
      "Please enter the radius of circle: 2\n",
      "Area of Circle is: 12.566370614359172 \n"
     ]
    }
   ],
   "source": [
    "import math\n",
    "radius = float(input(\"Please enter the radius of circle: \"))\n",
    "area = math.pi * radius ** 2\n",
    "print('Area of Circle is: {0} ' .format(area))"
   ]
  },
  {
   "cell_type": "markdown",
   "id": "4f0aa819",
   "metadata": {},
   "source": [
    "# QUESTION NO 5 <br>\n",
    "Write a Python program which accepts the user's first and last name and print them in\n",
    "reverse order with a space between them."
   ]
  },
  {
   "cell_type": "code",
   "execution_count": 22,
   "id": "d6bc57bf",
   "metadata": {},
   "outputs": [
    {
     "name": "stdout",
     "output_type": "stream",
     "text": [
      "Please enter your First name:ROHAN\n",
      "Please enter your Second name:RAZA\n",
      "RAZA ROHAN"
     ]
    }
   ],
   "source": [
    "firstName = input((\"Please enter your First name:\"))\n",
    "\n",
    "secondName = input((\"Please enter your Second name:\"))\n",
    "print(secondName,end=' '+ firstName)"
   ]
  },
  {
   "cell_type": "markdown",
   "id": "07e94a24",
   "metadata": {},
   "source": [
    "# QUESTION NO 6"
   ]
  },
  {
   "cell_type": "code",
   "execution_count": 69,
   "id": "1750f6b5",
   "metadata": {},
   "outputs": [
    {
     "name": "stdout",
     "output_type": "stream",
     "text": [
      "Enter your first value:45\n",
      "Ener your second value:56\n",
      "Your answer is:101\n"
     ]
    }
   ],
   "source": [
    "firstValue = int(input((\"Enter your first value:\")))\n",
    "secondValue = int(input((\"Ener your second value:\")))\n",
    "Ans = firstValue + secondValue\n",
    "print(\"Your answer is:\" + str(Ans))"
   ]
  },
  {
   "cell_type": "markdown",
   "id": "7afebd02",
   "metadata": {},
   "source": [
    "# QUESTION NO 7 <br>\n",
    "Write a program which takes 5 inputs from user for different subject’s marks, total it\n",
    "and generate mark sheet using grades ?"
   ]
  },
  {
   "cell_type": "code",
   "execution_count": 36,
   "id": "d6b2e361",
   "metadata": {},
   "outputs": [
    {
     "name": "stdout",
     "output_type": "stream",
     "text": [
      "Enter your Math marks:56\n",
      "Enter your English marks:44\n",
      "Enter your Urdu marks34\n",
      "Enter your History marks:78\n",
      "Enter your Islamiat marks:56\n",
      "Total Marks =268\n",
      "Perentage =53.6\n",
      "Grade C\n"
     ]
    }
   ],
   "source": [
    "Math = int(input((\"Enter your Math marks:\")));\n",
    "Eng = int(input((\"Enter your English marks:\")));\n",
    "Urdu = int(input((\"Enter your Urdu marks\")));\n",
    "History = int(input((\"Enter your History marks:\")));\n",
    "Isl = int(input((\"Enter your Islamiat marks:\")));\n",
    "Total = Isl + Math + Eng + Urdu + History\n",
    "percentage = Total/500 * 100\n",
    "print(\"Total Marks =\" + str(Total))\n",
    "print (\"Perentage =\" + str(percentage))\n",
    "if percentage >= 80 <= 100:\n",
    "    print(\"Grade A+\");\n",
    "elif percentage >= 70 <80:\n",
    "    print(\"Grade A\");\n",
    "elif percentage >= 60 < 70:\n",
    "    print(\"Grade B\");\n",
    "elif percentage >= 50 < 60:\n",
    "    print(\"Grade C\");\n",
    "elif percentage >= 40 < 50:\n",
    "    print(\"Grade D\");\n",
    "elif percentage >= 33 < 40:\n",
    "    print(\"Grade E\");\n",
    "elif percentage >= 0 < 33:\n",
    "    print(\"Grade F\")    \n",
    "else:\n",
    "    print(\"Enter your correct marks\")"
   ]
  },
  {
   "cell_type": "markdown",
   "id": "a3ccf442",
   "metadata": {},
   "source": [
    "# QUESTION NO 8 <br>\n",
    "Write a program which take input from user and identify that the given number is even\n",
    "or odd?"
   ]
  },
  {
   "cell_type": "code",
   "execution_count": 63,
   "id": "d2a5ea7a",
   "metadata": {},
   "outputs": [
    {
     "name": "stdout",
     "output_type": "stream",
     "text": [
      "Please enter your number:345\n",
      "Your number is Odd\n"
     ]
    }
   ],
   "source": [
    "num = float(input(\"Please enter your number:\"));\n",
    "remainder = num % 2\n",
    "if (remainder == 0):\n",
    "    print(\"Your numer is Even\");\n",
    "else:\n",
    "    print(\"Your number is Odd\")"
   ]
  },
  {
   "cell_type": "markdown",
   "id": "7952a60b",
   "metadata": {},
   "source": [
    "# QUESTION NO 9 <br>\n",
    "Write a program which print the length of the list?"
   ]
  },
  {
   "cell_type": "code",
   "execution_count": 67,
   "id": "a67d928f",
   "metadata": {},
   "outputs": [
    {
     "data": {
      "text/plain": [
       "6"
      ]
     },
     "execution_count": 67,
     "metadata": {},
     "output_type": "execute_result"
    }
   ],
   "source": [
    "Lst = [\"Apple\",\"Mango\",2,45,\"Banana\",2.45];\n",
    "len(Lst)"
   ]
  },
  {
   "cell_type": "markdown",
   "id": "c3b59465",
   "metadata": {},
   "source": [
    "# QUESTION NO 10 <br>\n",
    "Write a Python program to sum all the numeric items in a list?"
   ]
  },
  {
   "cell_type": "code",
   "execution_count": 75,
   "id": "3bacb9dc",
   "metadata": {},
   "outputs": [
    {
     "name": "stdout",
     "output_type": "stream",
     "text": [
      "665\n"
     ]
    }
   ],
   "source": [
    "Lst = [34,55,23,55,33,344,56,65]\n",
    "Total = sum(Lst)\n",
    "print (Total)"
   ]
  },
  {
   "cell_type": "markdown",
   "id": "96264cb6",
   "metadata": {},
   "source": [
    "# QUESTION NO 11 <br>\n",
    "Write a Python program to get the largest number from a numeric list."
   ]
  },
  {
   "cell_type": "code",
   "execution_count": 78,
   "id": "163a821a",
   "metadata": {},
   "outputs": [
    {
     "name": "stdout",
     "output_type": "stream",
     "text": [
      "555\n"
     ]
    }
   ],
   "source": [
    "Lst = [34,2,45,555,345,22,45]\n",
    "print (max(Lst))"
   ]
  },
  {
   "cell_type": "markdown",
   "id": "038ca842",
   "metadata": {},
   "source": [
    "# QUESION NO 12 <br>\n",
    "Write a program that prints out all the elements of the list that are less than 5."
   ]
  },
  {
   "cell_type": "code",
   "execution_count": 1,
   "id": "b3496209",
   "metadata": {},
   "outputs": [
    {
     "name": "stdout",
     "output_type": "stream",
     "text": [
      "1\n",
      "1\n",
      "2\n",
      "3\n"
     ]
    }
   ],
   "source": [
    "a =[1, 1, 2, 3, 5, 8, 13, 21, 34, 55, 89]\n",
    "for i in a:\n",
    "    if i < 5:\n",
    "        print(i)"
   ]
  },
  {
   "cell_type": "code",
   "execution_count": null,
   "id": "fb7a6915",
   "metadata": {},
   "outputs": [],
   "source": []
  }
 ],
 "metadata": {
  "kernelspec": {
   "display_name": "Python 3",
   "language": "python",
   "name": "python3"
  },
  "language_info": {
   "codemirror_mode": {
    "name": "ipython",
    "version": 3
   },
   "file_extension": ".py",
   "mimetype": "text/x-python",
   "name": "python",
   "nbconvert_exporter": "python",
   "pygments_lexer": "ipython3",
   "version": "3.8.8"
  }
 },
 "nbformat": 4,
 "nbformat_minor": 5
}
